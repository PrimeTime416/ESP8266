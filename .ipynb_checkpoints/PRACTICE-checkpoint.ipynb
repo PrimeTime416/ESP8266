{
 "cells": [
  {
   "cell_type": "markdown",
   "metadata": {},
   "source": [
    "Script for searching for a file"
   ]
  },
  {
   "cell_type": "code",
   "execution_count": 2,
   "metadata": {},
   "outputs": [
    {
     "name": "stdout",
     "output_type": "stream",
     "text": [
      "/dev/tty\n",
      "/dev/tty0\n",
      "/dev/tty1\n",
      "/dev/tty10\n",
      "/dev/tty11\n",
      "/dev/tty12\n",
      "/dev/tty13\n",
      "/dev/tty14\n",
      "/dev/tty15\n",
      "/dev/tty16\n",
      "/dev/tty17\n",
      "/dev/tty18\n",
      "/dev/tty19\n",
      "/dev/tty2\n",
      "/dev/tty20\n",
      "/dev/tty21\n",
      "/dev/tty22\n",
      "/dev/tty23\n",
      "/dev/tty24\n",
      "/dev/tty25\n",
      "/dev/tty26\n",
      "/dev/tty27\n",
      "/dev/tty28\n",
      "/dev/tty29\n",
      "/dev/tty3\n",
      "/dev/tty30\n",
      "/dev/tty31\n",
      "/dev/tty32\n",
      "/dev/tty33\n",
      "/dev/tty34\n",
      "/dev/tty35\n",
      "/dev/tty36\n",
      "/dev/tty37\n",
      "/dev/tty38\n",
      "/dev/tty39\n",
      "/dev/tty4\n",
      "/dev/tty40\n",
      "/dev/tty41\n",
      "/dev/tty42\n",
      "/dev/tty43\n",
      "/dev/tty44\n",
      "/dev/tty45\n",
      "/dev/tty46\n",
      "/dev/tty47\n",
      "/dev/tty48\n",
      "/dev/tty49\n",
      "/dev/tty5\n",
      "/dev/tty50\n",
      "/dev/tty51\n",
      "/dev/tty52\n",
      "/dev/tty53\n",
      "/dev/tty54\n",
      "/dev/tty55\n",
      "/dev/tty56\n",
      "/dev/tty57\n",
      "/dev/tty58\n",
      "/dev/tty59\n",
      "/dev/tty6\n",
      "/dev/tty60\n",
      "/dev/tty61\n",
      "/dev/tty62\n",
      "/dev/tty63\n",
      "/dev/tty7\n",
      "/dev/tty8\n",
      "/dev/tty9\n",
      "/dev/ttyprintk\n",
      "/dev/ttyS0\n",
      "/dev/ttyS1\n",
      "/dev/ttyS10\n",
      "/dev/ttyS11\n",
      "/dev/ttyS12\n",
      "/dev/ttyS13\n",
      "/dev/ttyS14\n",
      "/dev/ttyS15\n",
      "/dev/ttyS16\n",
      "/dev/ttyS17\n",
      "/dev/ttyS18\n",
      "/dev/ttyS19\n",
      "/dev/ttyS2\n",
      "/dev/ttyS20\n",
      "/dev/ttyS21\n",
      "/dev/ttyS22\n",
      "/dev/ttyS23\n",
      "/dev/ttyS24\n",
      "/dev/ttyS25\n",
      "/dev/ttyS26\n",
      "/dev/ttyS27\n",
      "/dev/ttyS28\n",
      "/dev/ttyS29\n",
      "/dev/ttyS3\n",
      "/dev/ttyS30\n",
      "/dev/ttyS31\n",
      "/dev/ttyS4\n",
      "/dev/ttyS5\n",
      "/dev/ttyS6\n",
      "/dev/ttyS7\n",
      "/dev/ttyS8\n",
      "/dev/ttyS9\n"
     ]
    }
   ],
   "source": [
    "usbPortX=\"/dev/tty*\"\n",
    "# declare -a usbPortList\n",
    "usbPortList=()\n",
    "\n",
    "for file in $usbPortX\n",
    "do\n",
    "    if [ \"$file\" != \"/dev/ttyUSB*\" ] \n",
    "        then\n",
    "            printf \"$file\\n\"\n",
    "#             usbPortList=(${usbPortList[*]} \"$file\\n\")\n",
    "#             printf \"${usbPortList[@]}\"\n",
    "        else\n",
    "            printf \"NO USB PORTS FOUND!\"\n",
    "        \n",
    "    fi\n",
    "done"
   ]
  },
  {
   "cell_type": "markdown",
   "metadata": {},
   "source": [
    "### Arrays\n",
    "https://opensource.com/article/18/5/you-dont-know-bash-intro-bash-arrays"
   ]
  },
  {
   "cell_type": "code",
   "execution_count": 181,
   "metadata": {},
   "outputs": [
    {
     "name": "stdout",
     "output_type": "stream",
     "text": [
      "/dev/tty /dev/tty0 /dev/tty1 /dev/tty10 /dev/tty11 /dev/tty12 /dev/tty13 /dev/tty14 /dev/tty15 /dev/tty16 /dev/tty17 /dev/tty18 /dev/tty19 /dev/tty2 /dev/tty20 /dev/tty21 /dev/tty22 /dev/tty23 /dev/tty24 /dev/tty25 /dev/tty26 /dev/tty27 /dev/tty28 /dev/tty29 /dev/tty3 /dev/tty30 /dev/tty31 /dev/tty32 /dev/tty33 /dev/tty34 /dev/tty35 /dev/tty36 /dev/tty37 /dev/tty38 /dev/tty39 /dev/tty4 /dev/tty40 /dev/tty41 /dev/tty42 /dev/tty43 /dev/tty44 /dev/tty45 /dev/tty46 /dev/tty47 /dev/tty48 /dev/tty49 /dev/tty5 /dev/tty50 /dev/tty51 /dev/tty52 /dev/tty53 /dev/tty54 /dev/tty55 /dev/tty56 /dev/tty57 /dev/tty58 /dev/tty59 /dev/tty6 /dev/tty60 /dev/tty61 /dev/tty62 /dev/tty63 /dev/tty7 /dev/tty8 /dev/tty9 /dev/ttyprintk /dev/ttyS0 /dev/ttyS1 /dev/ttyS10 /dev/ttyS11 /dev/ttyS12 /dev/ttyS13 /dev/ttyS14 /dev/ttyS15 /dev/ttyS16 /dev/ttyS17 /dev/ttyS18 /dev/ttyS19 /dev/ttyS2 /dev/ttyS20 /dev/ttyS21 /dev/ttyS22 /dev/ttyS23 /dev/ttyS24 /dev/ttyS25 /dev/ttyS26 /dev/ttyS27 /dev/ttyS28 /dev/ttyS29 /dev/ttyS3 /dev/ttyS30 /dev/ttyS31 /dev/ttyS4 /dev/ttyS5 /dev/ttyS6 /dev/ttyS7 /dev/ttyS8 /dev/ttyS9 /dev/ttyUSB0"
     ]
    }
   ],
   "source": [
    "usbPortX=\"/dev/tty*\"\n",
    "arrayList=( $(ls $usbPortX))\n",
    "# arrayList=( $(ls /dev/ttyUS*))\n",
    "printf \"$(echo ${arrayList[@]})\"\n",
    "\n"
   ]
  },
  {
   "cell_type": "markdown",
   "metadata": {},
   "source": [
    "## Search for all USB devices and push to array then print selection menu"
   ]
  },
  {
   "cell_type": "code",
   "execution_count": 6,
   "metadata": {},
   "outputs": [
    {
     "name": "stdout",
     "output_type": "stream",
     "text": [
      "0) /dev/ttyUSB0\n"
     ]
    }
   ],
   "source": [
    "usbPortX=\"/dev/ttyUSB*\"\n",
    "usbPortList=( $(ls $usbPortX))\n",
    "getLastCommandStatus=$(echo $?)\n",
    "if [ $getLastCommandStatus != 0 ]; then\n",
    "        printf \"\\nNO PORT NOT FOUND\"\n",
    "    else \n",
    "    for indexX in ${!usbPortList[@]}; do\n",
    "        printf \"$indexX) ${usbPortList[$indexX]}\\n\"\n",
    "    done\n",
    "fi\n"
   ]
  },
  {
   "cell_type": "code",
   "execution_count": 198,
   "metadata": {},
   "outputs": [
    {
     "name": "stdout",
     "output_type": "stream",
     "text": [
      "55"
     ]
    }
   ],
   "source": [
    "function getLastCommandStatus(){\n",
    "    statusCode=$(echo $?)\n",
    "    return 55\n",
    "}\n",
    "getLastCommandStatus\n",
    "printf $?"
   ]
  }
 ],
 "metadata": {
  "kernelspec": {
   "display_name": "Bash",
   "language": "bash",
   "name": "bash"
  },
  "language_info": {
   "codemirror_mode": "shell",
   "file_extension": ".sh",
   "mimetype": "text/x-sh",
   "name": "bash"
  }
 },
 "nbformat": 4,
 "nbformat_minor": 2
}
